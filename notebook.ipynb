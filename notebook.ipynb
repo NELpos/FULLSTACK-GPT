{
 "cells": [
  {
   "cell_type": "code",
   "execution_count": 108,
   "metadata": {},
   "outputs": [],
   "source": [
    "from langchain.utilities.duckduckgo_search import DuckDuckGoSearchAPIWrapper\n",
    "import yfinance\n",
    "import json\n",
    "\n",
    "\n",
    "def get_ticker(inputs):\n",
    "    ddg = DuckDuckGoSearchAPIWrapper()\n",
    "    company_name = inputs[\"company_name\"]\n",
    "    return ddg.run(f\"Ticker symbol of {company_name}\")\n",
    "\n",
    "\n",
    "def get_income_statement(inputs):\n",
    "    ticker = inputs[\"ticker\"]\n",
    "    stock = yfinance.Ticker(ticker)\n",
    "    return json.dumps(stock.income_stmt.to_json())\n",
    "\n",
    "\n",
    "def get_balance_sheet(inputs):\n",
    "    ticker = inputs[\"ticker\"]\n",
    "    stock = yfinance.Ticker(ticker)\n",
    "    return json.dumps(stock.balance_sheet.to_json())\n",
    "\n",
    "\n",
    "def get_daily_stock_performance(inputs):\n",
    "    ticker = inputs[\"ticker\"]\n",
    "    stock = yfinance.Ticker(ticker)\n",
    "    return json.dumps(stock.history(period=\"3mo\").to_json())\n",
    "\n",
    "functions_map = {\n",
    "    \"get_ticker\" : get_ticker,\n",
    "    \"get_income_statement\": get_income_statement,\n",
    "    \"get_balance_sheet\": get_balance_sheet,\n",
    "    \"get_daily_stock_performance\": get_daily_stock_performance,\n",
    "}\n",
    "\n",
    "functions = [\n",
    "    {\n",
    "        \"type\": \"function\",\n",
    "        \"function\": {\n",
    "            \"name\": \"get_ticker\",\n",
    "            \"description\": \"Given the name of a company returns its ticker symbol\",\n",
    "            \"parameters\": {\n",
    "                \"type\": \"object\",\n",
    "                \"properties\": {\n",
    "                    \"company_name\": {\n",
    "                        \"type\": \"string\",\n",
    "                        \"description\": \"The name of the company\",\n",
    "                    }\n",
    "                },\n",
    "                \"required\": [\"company_name\"],\n",
    "            },\n",
    "        },\n",
    "    },\n",
    "    {\n",
    "        \"type\": \"function\",\n",
    "        \"function\": {\n",
    "            \"name\": \"get_income_statement\",\n",
    "            \"description\": \"Given a ticker symbol (i.e AAPL) returns the company's income statement.\",\n",
    "            \"parameters\": {\n",
    "                \"type\": \"object\",\n",
    "                \"properties\": {\n",
    "                    \"ticker\": {\n",
    "                        \"type\": \"string\",\n",
    "                        \"description\": \"Ticker symbol of the company\",\n",
    "                    },\n",
    "                },\n",
    "                \"required\": [\"ticker\"],\n",
    "            },\n",
    "        },\n",
    "    },\n",
    "    {\n",
    "        \"type\": \"function\",\n",
    "        \"function\": {\n",
    "            \"name\": \"get_balance_sheet\",\n",
    "            \"description\": \"Given a ticker symbol (i.e AAPL) returns the company's balance sheet.\",\n",
    "            \"parameters\": {\n",
    "                \"type\": \"object\",\n",
    "                \"properties\": {\n",
    "                    \"ticker\": {\n",
    "                        \"type\": \"string\",\n",
    "                        \"description\": \"Ticker symbol of the company\",\n",
    "                    },\n",
    "                },\n",
    "                \"required\": [\"ticker\"],\n",
    "            },\n",
    "        },\n",
    "    },\n",
    "    {\n",
    "        \"type\": \"function\",\n",
    "        \"function\": {\n",
    "            \"name\": \"get_daily_stock_performance\",\n",
    "            \"description\": \"Given a ticker symbol (i.e AAPL) returns the performance of the stock for the last 100 days.\",\n",
    "            \"parameters\": {\n",
    "                \"type\": \"object\",\n",
    "                \"properties\": {\n",
    "                    \"ticker\": {\n",
    "                        \"type\": \"string\",\n",
    "                        \"description\": \"Ticker symbol of the company\",\n",
    "                    },\n",
    "                },\n",
    "                \"required\": [\"ticker\"],\n",
    "            },\n",
    "        },\n",
    "    },\n",
    "]"
   ]
  },
  {
   "cell_type": "code",
   "execution_count": null,
   "metadata": {},
   "outputs": [],
   "source": [
    "from openai import OpenAI\n",
    "client = OpenAI()\n",
    "\n",
    "# assistant = client.beta.assistants.create(\n",
    "#   name=\"Investor Assistant\",\n",
    "#   instructions=\"You help users do research on publicly traded companies and you help users decide if they should buy the stock or not.\",\n",
    "#   tools=functions,\n",
    "#   model=\"gpt-4o\",\n",
    "# )\n",
    "\n",
    "assistant_id = \"asst_z6EdpAErLd6yiIM8z0mlNven\"\n",
    "\n"
   ]
  },
  {
   "cell_type": "code",
   "execution_count": 101,
   "metadata": {},
   "outputs": [
    {
     "data": {
      "text/plain": [
       "Thread(id='thread_YBdDNagxot0phefrEmsjB6zx', created_at=1717905715, metadata={}, object='thread', tool_resources=ToolResources(code_interpreter=None, file_search=None))"
      ]
     },
     "execution_count": 101,
     "metadata": {},
     "output_type": "execute_result"
    }
   ],
   "source": [
    "thread = client.beta.threads.create(\n",
    "    messages=[\n",
    "        {\n",
    "            \"role\": \"user\",\n",
    "            \"content\": \"I want to know if the Salesforce stock is a good buy\",\n",
    "        }\n",
    "    ]\n",
    ")\n",
    "thread"
   ]
  },
  {
   "cell_type": "code",
   "execution_count": 103,
   "metadata": {},
   "outputs": [
    {
     "data": {
      "text/plain": [
       "Run(id='run_YKBA6F1yZ4V0SV7qE8pHGQWb', assistant_id='asst_z6EdpAErLd6yiIM8z0mlNven', cancelled_at=None, completed_at=None, created_at=1717905732, expires_at=1717906332, failed_at=None, incomplete_details=None, instructions='You help users do research on publicly traded companies and you help users decide if they should buy the stock or not.', last_error=None, max_completion_tokens=None, max_prompt_tokens=None, metadata={}, model='gpt-4o', object='thread.run', required_action=None, response_format='auto', started_at=None, status='queued', thread_id='thread_YBdDNagxot0phefrEmsjB6zx', tool_choice='auto', tools=[FunctionTool(function=FunctionDefinition(name='get_ticker', description='Given the name of a company returns its ticker symbol', parameters={'type': 'object', 'properties': {'company_name': {'type': 'string', 'description': 'The name of the company'}}, 'required': ['company_name']}), type='function'), FunctionTool(function=FunctionDefinition(name='get_income_statement', description=\"Given a ticker symbol (i.e AAPL) returns the company's income statement.\", parameters={'type': 'object', 'properties': {'ticker': {'type': 'string', 'description': 'Ticker symbol of the company'}}, 'required': ['ticker']}), type='function'), FunctionTool(function=FunctionDefinition(name='get_balance_sheet', description=\"Given a ticker symbol (i.e AAPL) returns the company's balance sheet.\", parameters={'type': 'object', 'properties': {'ticker': {'type': 'string', 'description': 'Ticker symbol of the company'}}, 'required': ['ticker']}), type='function'), FunctionTool(function=FunctionDefinition(name='get_daily_stock_performance', description='Given a ticker symbol (i.e AAPL) returns the performance of the stock for the last 100 days.', parameters={'type': 'object', 'properties': {'ticker': {'type': 'string', 'description': 'Ticker symbol of the company'}}, 'required': ['ticker']}), type='function')], truncation_strategy=TruncationStrategy(type='auto', last_messages=None), usage=None, temperature=1.0, top_p=1.0, tool_resources={}, parallel_tool_calls=True)"
      ]
     },
     "execution_count": 103,
     "metadata": {},
     "output_type": "execute_result"
    }
   ],
   "source": [
    "run = client.beta.threads.runs.create(\n",
    "    thread_id=thread.id,\n",
    "    assistant_id=assistant_id,\n",
    ")\n",
    "run"
   ]
  },
  {
   "cell_type": "code",
   "execution_count": 88,
   "metadata": {},
   "outputs": [],
   "source": [
    "def get_run(run_id, thread_id):\n",
    "    return client.beta.threads.runs.retrieve(\n",
    "        run_id=run_id,\n",
    "        thread_id=thread_id,\n",
    "    )\n",
    "\n",
    "\n",
    "def get_messages(thread_id):\n",
    "    messages = client.beta.threads.messages.list(thread_id=thread_id)\n",
    "    messages = list(messages)\n",
    "    messages.reverse()\n",
    "    for message in messages:\n",
    "        print(f\"{message.role}: {message.content[0].text.value}\")\n",
    "\n",
    "def send_message(thread_id, content):\n",
    "    return client.beta.threads.messages.create(\n",
    "        thread_id=thread_id, role=\"user\", content=content\n",
    "    )\n",
    "\n",
    "def get_tool_outputs(run_id, thread_id):\n",
    "    run = get_run(run_id, thread_id)\n",
    "    outputs = []\n",
    "    for action in run.required_action.submit_tool_outputs.tool_calls:\n",
    "        action_id = action.id\n",
    "        function = action.function\n",
    "        print(f\"Calling function : {function.name} with arg {function.arguments}\")\n",
    "        outputs.append({\n",
    "            \"output\" : functions_map[function.name](json.loads(function.arguments)),\n",
    "            \"tool_call_id\" : action_id\n",
    "        })\n",
    "    return outputs\n",
    "\n",
    "def submit_tool_outputs(run_id, thread_id):\n",
    "    outputs = get_tool_outputs(run_id, thread_id)\n",
    "    return client.beta.threads.runs.submit_tool_outputs(\n",
    "        run_id = run_id,\n",
    "        thread_id = thread_id,\n",
    "        tool_outputs = outputs\n",
    "    )"
   ]
  },
  {
   "cell_type": "code",
   "execution_count": 109,
   "metadata": {},
   "outputs": [
    {
     "name": "stdout",
     "output_type": "stream",
     "text": [
      "Calling function : get_ticker with arg {\"company_name\": \"Salesforce\"}\n"
     ]
    },
    {
     "ename": "KeyError",
     "evalue": "'get_ticker'",
     "output_type": "error",
     "traceback": [
      "\u001b[0;31m---------------------------------------------------------------------------\u001b[0m",
      "\u001b[0;31mKeyError\u001b[0m                                  Traceback (most recent call last)",
      "Cell \u001b[0;32mIn[109], line 3\u001b[0m\n\u001b[1;32m      1\u001b[0m \u001b[38;5;66;03m#get_run(run.id, thread.id).status\u001b[39;00m\n\u001b[1;32m      2\u001b[0m \u001b[38;5;66;03m#get_run(run.id, thread.id).status\u001b[39;00m\n\u001b[0;32m----> 3\u001b[0m \u001b[43msubmit_tool_outputs\u001b[49m\u001b[43m(\u001b[49m\u001b[43mrun\u001b[49m\u001b[38;5;241;43m.\u001b[39;49m\u001b[43mid\u001b[49m\u001b[43m,\u001b[49m\u001b[43m \u001b[49m\u001b[43mthread\u001b[49m\u001b[38;5;241;43m.\u001b[39;49m\u001b[43mid\u001b[49m\u001b[43m)\u001b[49m\n\u001b[1;32m      4\u001b[0m \u001b[38;5;66;03m#send_message(thread.id, \"Please go ahead!\")\u001b[39;00m\n",
      "Cell \u001b[0;32mIn[88], line 34\u001b[0m, in \u001b[0;36msubmit_tool_outputs\u001b[0;34m(run_id, thread_id)\u001b[0m\n\u001b[1;32m     33\u001b[0m \u001b[38;5;28;01mdef\u001b[39;00m \u001b[38;5;21msubmit_tool_outputs\u001b[39m(run_id, thread_id):\n\u001b[0;32m---> 34\u001b[0m     outputs \u001b[38;5;241m=\u001b[39m \u001b[43mget_tool_outputs\u001b[49m\u001b[43m(\u001b[49m\u001b[43mrun_id\u001b[49m\u001b[43m,\u001b[49m\u001b[43m \u001b[49m\u001b[43mthread_id\u001b[49m\u001b[43m)\u001b[49m\n\u001b[1;32m     35\u001b[0m     \u001b[38;5;28;01mreturn\u001b[39;00m client\u001b[38;5;241m.\u001b[39mbeta\u001b[38;5;241m.\u001b[39mthreads\u001b[38;5;241m.\u001b[39mruns\u001b[38;5;241m.\u001b[39msubmit_tool_outputs(\n\u001b[1;32m     36\u001b[0m         run_id \u001b[38;5;241m=\u001b[39m run_id,\n\u001b[1;32m     37\u001b[0m         thread_id \u001b[38;5;241m=\u001b[39m thread_id,\n\u001b[1;32m     38\u001b[0m         tool_outputs \u001b[38;5;241m=\u001b[39m outputs\n\u001b[1;32m     39\u001b[0m     )\n",
      "Cell \u001b[0;32mIn[88], line 28\u001b[0m, in \u001b[0;36mget_tool_outputs\u001b[0;34m(run_id, thread_id)\u001b[0m\n\u001b[1;32m     25\u001b[0m     function \u001b[38;5;241m=\u001b[39m action\u001b[38;5;241m.\u001b[39mfunction\n\u001b[1;32m     26\u001b[0m     \u001b[38;5;28mprint\u001b[39m(\u001b[38;5;124mf\u001b[39m\u001b[38;5;124m\"\u001b[39m\u001b[38;5;124mCalling function : \u001b[39m\u001b[38;5;132;01m{\u001b[39;00mfunction\u001b[38;5;241m.\u001b[39mname\u001b[38;5;132;01m}\u001b[39;00m\u001b[38;5;124m with arg \u001b[39m\u001b[38;5;132;01m{\u001b[39;00mfunction\u001b[38;5;241m.\u001b[39marguments\u001b[38;5;132;01m}\u001b[39;00m\u001b[38;5;124m\"\u001b[39m)\n\u001b[1;32m     27\u001b[0m     outputs\u001b[38;5;241m.\u001b[39mappend({\n\u001b[0;32m---> 28\u001b[0m         \u001b[38;5;124m\"\u001b[39m\u001b[38;5;124moutput\u001b[39m\u001b[38;5;124m\"\u001b[39m : \u001b[43mfunctions_map\u001b[49m\u001b[43m[\u001b[49m\u001b[43mfunction\u001b[49m\u001b[38;5;241;43m.\u001b[39;49m\u001b[43mname\u001b[49m\u001b[43m]\u001b[49m(json\u001b[38;5;241m.\u001b[39mloads(function\u001b[38;5;241m.\u001b[39marguments)),\n\u001b[1;32m     29\u001b[0m         \u001b[38;5;124m\"\u001b[39m\u001b[38;5;124mtool_call_id\u001b[39m\u001b[38;5;124m\"\u001b[39m : action_id\n\u001b[1;32m     30\u001b[0m     })\n\u001b[1;32m     31\u001b[0m \u001b[38;5;28;01mreturn\u001b[39;00m outputs\n",
      "\u001b[0;31mKeyError\u001b[0m: 'get_ticker'"
     ]
    }
   ],
   "source": [
    "#get_run(run.id, thread.id).status\n",
    "#get_run(run.id, thread.id).status\n",
    "submit_tool_outputs(run.id, thread.id)\n",
    "#send_message(thread.id, \"Please go ahead!\")"
   ]
  },
  {
   "cell_type": "code",
   "execution_count": 104,
   "metadata": {},
   "outputs": [
    {
     "data": {
      "text/plain": [
       "'requires_action'"
      ]
     },
     "execution_count": 104,
     "metadata": {},
     "output_type": "execute_result"
    }
   ],
   "source": [
    "get_run(run.id, thread.id).status\n",
    "\n",
    "#get_messages(thread.id)"
   ]
  },
  {
   "cell_type": "code",
   "execution_count": 102,
   "metadata": {},
   "outputs": [
    {
     "data": {
      "text/plain": [
       "Message(id='msg_LSqcJko5w0iiaeFyAYAH1yNZ', assistant_id=None, attachments=[], completed_at=None, content=[TextContentBlock(text=Text(annotations=[], value='Now I want to know if Cloudflare is a good buy.'), type='text')], created_at=1717905723, incomplete_at=None, incomplete_details=None, metadata={}, object='thread.message', role='user', run_id=None, status=None, thread_id='thread_YBdDNagxot0phefrEmsjB6zx')"
      ]
     },
     "execution_count": 102,
     "metadata": {},
     "output_type": "execute_result"
    }
   ],
   "source": [
    "send_message(thread.id, \"Now I want to know if Cloudflare is a good buy.\")"
   ]
  },
  {
   "cell_type": "code",
   "execution_count": 96,
   "metadata": {},
   "outputs": [
    {
     "name": "stdout",
     "output_type": "stream",
     "text": [
      "user: I want to know if the Salesforce stock is a good buy\n",
      "assistant: ### Financial Overview of Salesforce (Ticker: CRM)\n",
      "\n",
      "#### Income Statement\n",
      "1. **Total Revenue:**\n",
      "   - 2023: $34.86 Billion\n",
      "   - 2022: $31.35 Billion\n",
      "   - 2021: $26.49 Billion\n",
      "   - 2020: $21.25 Billion\n",
      "\n",
      "2. **Net Income:**\n",
      "   - 2023: $4.14 Billion\n",
      "   - 2022: $0.21 Billion\n",
      "   - 2021: $1.44 Billion\n",
      "   - 2020: $4.07 Billion\n",
      "\n",
      "3. **Diluted EPS:**\n",
      "   - 2023: $4.20\n",
      "   - 2022: $0.21\n",
      "   - 2021: $1.48\n",
      "   - 2020: $4.38\n",
      "\n",
      "4. **Operating Income:**\n",
      "   - 2023: $5.01 Billion\n",
      "   - 2022: $1.03 Billion\n",
      "   - 2021: $0.55 Billion\n",
      "   - 2020: $0.46 Billion\n",
      "\n",
      "5. **Gross Profit:**\n",
      "   - 2023: $26.32 Billion\n",
      "   - 2022: $22.99 Billion\n",
      "   - 2021: $19.47 Billion\n",
      "   - 2020: $15.81 Billion\n",
      "\n",
      "#### Balance Sheet\n",
      "1. **Total Assets:**\n",
      "   - 2023: $99.82 Billion\n",
      "   - 2022: $98.85 Billion\n",
      "   - 2021: $95.21 Billion\n",
      "   - 2020: $66.30 Billion\n",
      "\n",
      "2. **Total Liabilities:**\n",
      "   - 2023: $40.18 Billion\n",
      "   - 2022: $40.49 Billion\n",
      "   - 2021: $37.08 Billion\n",
      "   - 2020: $24.81 Billion\n",
      "\n",
      "3. **Total Equity:**\n",
      "   - 2023: $59.65 Billion\n",
      "   - 2022: $58.36 Billion\n",
      "   - 2021: $58.13 Billion\n",
      "   - 2020: $41.49 Billion\n",
      "\n",
      "4. **Cash and Cash Equivalents:**\n",
      "   - 2023: $14.19 Billion\n",
      "   - 2022: $12.51 Billion\n",
      "   - 2021: $11.04 Billion\n",
      "   - 2020: $6.19 Billion\n",
      "   \n",
      "5. **Total Debt:**\n",
      "   - 2023: $12.59 Billion\n",
      "   - 2022: $14.09 Billion\n",
      "   - 2021: $13.99 Billion\n",
      "   - 2020: $6.28 Billion\n",
      "\n",
      "#### Stock Performance (Last 100 Days)\n",
      "- **Opening Price Range:**\n",
      "  - Highest: $307.48\n",
      "  - Lowest: $268.0\n",
      "\n",
      "- **Closing Price Range:**\n",
      "  - Highest: $307.77\n",
      "  - Lowest: $234.86\n",
      "\n",
      "- **Volume:**\n",
      "  - Highest: 66,860,900 shares\n",
      "  - Lowest: 2,799,300 shares\n",
      "\n",
      "### Analysis\n",
      "1. **Revenue Growth:** Salesforce has shown consistent revenue growth over the last few years, with a significant jump from $21.25 Billion in 2020 to $34.86 Billion in 2023.\n",
      "\n",
      "2. **Profitability:** The net income for 2023 was significantly higher compared to 2022, indicating improved profitability. However, 2022 saw a substantial drop compared to 2021.\n",
      "\n",
      "3. **Earnings Per Share (EPS):** There's been fluctuation in EPS, with 2022 being notably lower. However, EPS rebounded strongly in 2023.\n",
      "\n",
      "4. **Debt Levels:** While the company holds a significant amount of debt, their net debt has been reducing over the years.\n",
      "\n",
      "5. **Stock Volatility:** Salesforce's stock has shown volatility, with significant movements in both opening and closing prices. The recent high trading volumes suggest strong investor interest.\n",
      "\n",
      "### Investment Consideration\n",
      "- **Strengths:**\n",
      "  - Consistent revenue and gross profit growth.\n",
      "  - Significant cash reserves which can help in strategic acquisitions and R&D.\n",
      "  - Improved profitability in most recent fiscal year.\n",
      "  \n",
      "- **Weaknesses:**\n",
      "  - Large debt burden which may impact financial flexibility.\n",
      "  - High stock volatility, which might be a concern for risk-averse investors.\n",
      "\n",
      "### Conclusion\n",
      "Salesforce shows strong fundamentals with consistent revenue growth and improved profitability in the recent year. Investors looking for long-term growth potential might find Salesforce an attractive buy, especially given its strategic position in the cloud CRM market. However, potential investors should consider the company's debt levels and the volatility in stock performance when making their decision.\n",
      "user: Now I want to know if Cloudflare is a good buy.\n"
     ]
    }
   ],
   "source": [
    "get_messages(thread.id)"
   ]
  }
 ],
 "metadata": {
  "kernelspec": {
   "display_name": "env",
   "language": "python",
   "name": "python3"
  },
  "language_info": {
   "codemirror_mode": {
    "name": "ipython",
    "version": 3
   },
   "file_extension": ".py",
   "mimetype": "text/x-python",
   "name": "python",
   "nbconvert_exporter": "python",
   "pygments_lexer": "ipython3",
   "version": "3.11.7"
  }
 },
 "nbformat": 4,
 "nbformat_minor": 2
}
